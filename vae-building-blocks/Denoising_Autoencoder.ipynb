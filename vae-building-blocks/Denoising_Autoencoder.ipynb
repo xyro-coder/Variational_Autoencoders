{
 "cells": [
  {
   "cell_type": "markdown",
   "metadata": {},
   "source": [
    "### Autoencoders "
   ]
  },
  {
   "cell_type": "code",
   "execution_count": 45,
   "metadata": {},
   "outputs": [],
   "source": [
    "import numpy as np\n",
    "import pandas as pd \n",
    "import matplotlib.pyplot as plt \n",
    "import sklearn\n",
    "import torch\n",
    "import torch.nn as nn\n",
    "import torch.optim as optim\n",
    "import torch.nn.functional as F\n",
    "import torchvision\n",
    "from torchvision import transforms"
   ]
  },
  {
   "cell_type": "code",
   "execution_count": 46,
   "metadata": {},
   "outputs": [
    {
     "data": {
      "text/plain": [
       "<torch._C.Generator at 0x163a70350>"
      ]
     },
     "execution_count": 46,
     "metadata": {},
     "output_type": "execute_result"
    }
   ],
   "source": [
    "torch.manual_seed(0)"
   ]
  },
  {
   "cell_type": "code",
   "execution_count": 47,
   "metadata": {},
   "outputs": [],
   "source": [
    "input_size = 784\n",
    "h1 = 500\n",
    "h2 = 300\n",
    "bottleneck = 200\n",
    "h3 = 300\n",
    "h4 = 500\n",
    "lr = 0.001\n",
    "number_epoch = 5000\n",
    "batch_size = 100"
   ]
  },
  {
   "cell_type": "code",
   "execution_count": 48,
   "metadata": {},
   "outputs": [],
   "source": [
    "class Noisify:\n",
    "    def __init__(self, Noise_level):\n",
    "        self.Noise_level = Noise_level\n",
    "    def __call__(self, sample):\n",
    "        clean_image = sample[0]\n",
    "        noise = self.Noise_level * np.random.normal(0, 1, size=clean_image.shape)\n",
    "        Noisy_image = clean_image + noise\n",
    "        All_images = (Noisy_image, clean_image)\n",
    "        return All_images"
   ]
  },
  {
   "cell_type": "code",
   "execution_count": 5,
   "metadata": {},
   "outputs": [],
   "source": [
    "transformation = transforms.Compose([transforms.ToTensor(),  Noisify(0.15)])\n",
    "batch_size = 100\n",
    "\n",
    "train_dataset = torchvision.datasets.MNIST(root='./data', train=True, transform=transformation, download=False)\n",
    "test_dataset = torchvision.datasets.MNIST(root='./data', train=False, transform=transformation, download=False)\n",
    "\n",
    "train_loader = torch.utils.data.DataLoader(dataset=train_dataset, batch_size=batch_size, shuffle=True)\n",
    "test_loader = torch.utils.data.DataLoader(dataset=test_dataset, batch_size=batch_size, shuffle=False)"
   ]
  },
  {
   "cell_type": "code",
   "execution_count": 6,
   "metadata": {},
   "outputs": [],
   "source": [
    "class Denoising_Autoencoder(nn.Module):\n",
    "    def __init__(self, input_size, h1, h2, bottleneck, h3, h4):\n",
    "        super(Denoising_Autoencoder, self).__init__()\n",
    "        self.el1 = nn.Linear(input_size, h1)\n",
    "        self.el2 = nn.Linear(h1, h2)\n",
    "        self.el3 = nn.Linear(h2, bottleneck)\n",
    "\n",
    "        self.Relu = nn.ReLU()\n",
    "\n",
    "        self.d11 = nn.Linear(bottleneck, h3)\n",
    "        self.dl2 = nn.Linear(h3, h4)\n",
    "        self.dl3 = nn.Linear(h4, input_size)\n",
    "\n",
    "    def encoder_forward(self, Noisy_image):\n",
    "\n",
    "        out = self.el1(Noisy_image)\n",
    "        out = self.Relu(out)\n",
    "        out = self.el2(out)\n",
    "        out = self.Relu(out)\n",
    "        out = self.el3(out)\n",
    "        \n",
    "        return out\n",
    "    \n",
    "    def decoder_forward(self, encoded_forward):\n",
    "\n",
    "        out = self.d11(encoded_forward)\n",
    "        out = self.Relu(out)\n",
    "        out = self.dl2(out)\n",
    "        out = self.Relu(out)\n",
    "        out = self.dl3(out)\n",
    "        \n",
    "        return out\n",
    "    def forward(self, Noisy_image):\n",
    "        encoder_forward = self.encoder_forward(Noisy_image)\n",
    "        decoded_forward = self.decoder_forward(encoder_forward)\n",
    "        return decoded_forward\n",
    "\n",
    "    "
   ]
  },
  {
   "cell_type": "code",
   "execution_count": null,
   "metadata": {},
   "outputs": [],
   "source": [
    "Model = Denoising_Autoencoder(input_size, h1, h2, bottleneck, h3, h4)\n",
    "Cost = nn.MSELoss()\n",
    "optimizer = optim.Adam(Model.parameters(), lr=lr)\n",
    "number_epouch = 100\n",
    "\n",
    "for epoch in range(number_epouch):\n",
    "    for i , ((Noisy_image, clean_image), label) in enumerate(train_loader):       \n",
    "        #Forward pass\n",
    "        Noisy_image, clean_image = Noisy_image.reshape(-1, input_size), clean_image.reshape(-1, input_size)\n",
    "\n",
    "        Noisy_image = Noisy_image.type(torch.float32)\n",
    "        clean_image = clean_image.type(torch.float32)\n",
    "\n",
    "        output = Model.forward(Noisy_image)\n",
    "        loss = Cost(output, clean_image)\n",
    "\n",
    "        #backpropogation\n",
    "\n",
    "        loss.backward()\n",
    "        optimizer.step()\n",
    "        optimizer.zero_grad()\n",
    "        if (i+1) % 100 == 0:\n",
    "            print (f'Epoch [{epoch+1}/{number_epouch}], Loss: {loss.item():.4f}')\n",
    "\n"
   ]
  },
  {
   "cell_type": "code",
   "execution_count": 37,
   "metadata": {},
   "outputs": [],
   "source": [
    "def Denoise(Model, Noisy_image):\n",
    "    with torch.no_grad():\n",
    "        Noisy_image =  Noisy_image.reshape(-1, input_size)\n",
    "        Noisy_image = Noisy_image.type(torch.float32)\n",
    "        encoder_forward = Model.encoder_forward(Noisy_image)\n",
    "        output = Model.decoder_forward(encoder_forward)\n",
    "        output = output.reshape(28, 28)\n",
    "        output = output.detach().numpy()\n",
    "    return output "
   ]
  },
  {
   "cell_type": "code",
   "execution_count": 40,
   "metadata": {},
   "outputs": [
    {
     "data": {
      "text/plain": [
       "<matplotlib.image.AxesImage at 0x17cc09220>"
      ]
     },
     "execution_count": 40,
     "metadata": {},
     "output_type": "execute_result"
    },
    {
     "data": {
      "image/png": "[encoded data removed]",
      "text/plain": [
       "<Figure size 640x480 with 1 Axes>"
      ]
     },
     "metadata": {},
     "output_type": "display_data"
    }
   ],
   "source": [
    "(Noisy_image, clean_image), label = next(iter(test_loader))\n",
    "plt.imshow(Noisy_image[1])\n"
   ]
  },
  {
   "cell_type": "code",
   "execution_count": 49,
   "metadata": {},
   "outputs": [
    {
     "data": {
      "text/plain": [
       "<matplotlib.image.AxesImage at 0x30c230680>"
      ]
     },
     "execution_count": 49,
     "metadata": {},
     "output_type": "execute_result"
    },
    {
     "data": {
      "image/png": "[encoded data removed]",
      "text/plain": [
       "<Figure size 640x480 with 1 Axes>"
      ]
     },
     "metadata": {},
     "output_type": "display_data"
    }
   ],
   "source": [
    "test_image = Noisy_image[1]\n",
    "cleaned_test_image = Denoise(Model, test_image)\n",
    "plt.imshow(cleaned_test_image)"
   ]
  },
  {
   "cell_type": "code",
   "execution_count": null,
   "metadata": {},
   "outputs": [],
   "source": []
  }
 ],
 "metadata": {
  "kernelspec": {
   "display_name": "base",
   "language": "python",
   "name": "python3"
  },
  "language_info": {
   "codemirror_mode": {
    "name": "ipython",
    "version": 3
   },
   "file_extension": ".py",
   "mimetype": "text/x-python",
   "name": "python",
   "nbconvert_exporter": "python",
   "pygments_lexer": "ipython3",
   "version": "3.12.7"
  }
 },
 "nbformat": 4,
 "nbformat_minor": 2
}
