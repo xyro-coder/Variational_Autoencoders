{
 "cells": [
  {
   "cell_type": "markdown",
   "metadata": {},
   "source": [
    "### Autoencoders "
   ]
  },
  {
   "cell_type": "code",
   "execution_count": 19,
   "metadata": {},
   "outputs": [],
   "source": [
    "import numpy as np\n",
    "import pandas as pd \n",
    "import matplotlib.pyplot as plt \n",
    "import sklearn\n",
    "import torch\n",
    "import torch.nn as nn\n",
    "import torch.optim as optim\n",
    "import torch.nn.functional as F\n",
    "import torchvision\n",
    "from torchvision import transforms\n",
    "import inspect"
   ]
  },
  {
   "cell_type": "code",
   "execution_count": 3,
   "metadata": {},
   "outputs": [
    {
     "data": {
      "text/plain": [
       "<torch._C.Generator at 0x15b070350>"
      ]
     },
     "execution_count": 3,
     "metadata": {},
     "output_type": "execute_result"
    }
   ],
   "source": [
    "torch.manual_seed(0)"
   ]
  },
  {
   "cell_type": "code",
   "execution_count": 4,
   "metadata": {},
   "outputs": [],
   "source": [
    "config = {\"input_size\" : 784,\n",
    "\"h1\" : 256,\n",
    "\"h2\" : 128,\n",
    "\"bottleneck\" : 64,\n",
    "\"h3\" : 256,\n",
    "\"h4\" : 512,\n",
    "\"lr\" : 0.001,\n",
    "\"number_epoch\" : 100,\n",
    "\"batch_size\" : 100}\n"
   ]
  },
  {
   "cell_type": "code",
   "execution_count": 13,
   "metadata": {},
   "outputs": [],
   "source": [
    "class Noisify:\n",
    "    def __init__(self, noise_level):\n",
    "        self.noise_level = noise_level\n",
    "    def __call__(self, sample):\n",
    "        if len(sample) > 0:\n",
    "            clean_image = sample[0]\n",
    "        else:\n",
    "            raise ValueError(\"Sample is empty!\")\n",
    "        noise = self.noise_level * np.random.normal(0, 1, size=clean_image.shape)\n",
    "        noisy_image = clean_image + noise\n",
    "        all_images = (noisy_image, clean_image)\n",
    "        return all_images"
   ]
  },
  {
   "cell_type": "code",
   "execution_count": 14,
   "metadata": {},
   "outputs": [],
   "source": [
    "transformation = transforms.Compose([transforms.ToTensor(),  Noisify(0.15)])\n",
    "\n",
    "\n",
    "train_dataset = torchvision.datasets.MNIST(root='./data', train=True, transform=transformation, download=True)\n",
    "test_dataset = torchvision.datasets.MNIST(root='./data', train=False, transform=transformation, download=True)\n",
    "\n",
    "train_loader = torch.utils.data.DataLoader(dataset=train_dataset, batch_size=config[\"batch_size\"], shuffle=True)\n",
    "test_loader = torch.utils.data.DataLoader(dataset=test_dataset, batch_size=config[\"batch_size\"], shuffle=False)"
   ]
  },
  {
   "cell_type": "code",
   "execution_count": 15,
   "metadata": {},
   "outputs": [],
   "source": [
    "class DenoisingAutoencoder(nn.Module):\n",
    "    def __init__(self, input_size, h1, h2, bottleneck, h3, h4):\n",
    "\n",
    "        super(DenoisingAutoencoder, self).__init__()\n",
    "        \n",
    "        self.encoding_layers = nn.Sequential(\n",
    "            nn.Linear(input_size, h1),\n",
    "            nn.ReLU(),\n",
    "            nn.Linear(h1, h2),\n",
    "            nn.ReLU(),\n",
    "            nn.Linear(h2, bottleneck)\n",
    "        )\n",
    "\n",
    "        self.decoding_layers = nn.Sequential(\n",
    "            nn.Linear(bottleneck, h3),\n",
    "            nn.ReLU(),\n",
    "            nn.Linear(h3, h4),\n",
    "            nn.ReLU(),\n",
    "            nn.Linear(h4, input_size)\n",
    "        )  \n",
    "    def encoder_forward(self, Noisy_image):\n",
    "\n",
    "        out = self.encoding_layers(Noisy_image)\n",
    "        \n",
    "        return out\n",
    "    \n",
    "    def decoder_forward(self, encoded_forward):\n",
    "\n",
    "        out = self.decoding_layers(encoded_forward)\n",
    "        return out\n",
    "    \n",
    "    def forward(self, Noisy_image):\n",
    "\n",
    "        encoder_forward = self.encoder_forward(Noisy_image)\n",
    "        decoded_forward = self.decoder_forward(encoder_forward)\n",
    "        return decoded_forward\n",
    "\n",
    "    "
   ]
  },
  {
   "cell_type": "code",
   "execution_count": 27,
   "metadata": {},
   "outputs": [],
   "source": [
    "class Train:\n",
    "    def __init__(self, config):\n",
    "        self.config = config\n",
    "        self.losses = []\n",
    "\n",
    "        # this line below borrowed from online very beautiful\n",
    "        sig = inspect.signature(DenoisingAutoencoder.__init__)\n",
    "        keys_list = set(sig.parameters.keys()) - {'self'}\n",
    "        \n",
    "        if not set(keys_list).issubset(config):\n",
    "            missing = [key for key in keys_list if key not in config]\n",
    "            raise KeyError(f\"You are missing {missing} key\")\n",
    "        \n",
    "        self.model = DenoisingAutoencoder(self.config[\"input_size\"], self.config[\"h1\"], self.config[\"h2\"], self.config[\"bottleneck\"], self.config[\"h3\"], self.config[\"h4\"])\n",
    "        self.cost = nn.MSELoss()\n",
    "        self.optimizer = optim.Adam(self.model.parameters(), lr=self.config[\"lr\"])\n",
    "\n",
    "    def model_train(self): \n",
    "        for epoch in range(self.config[\"number_epoch\"]):\n",
    "            for (i, ((noisy_image, clean_image), label) )in enumerate(train_loader):       \n",
    "                #Forward pass\n",
    "                noisy_image, clean_image = noisy_image.reshape(-1, self.config[\"input_size\"]), clean_image.reshape(-1, self.config[\"input_size\"])\n",
    "\n",
    "                noisy_image = noisy_image.type(torch.float32)\n",
    "                clean_image = clean_image.type(torch.float32)\n",
    "                \n",
    "\n",
    "                output = self.model.forward(noisy_image)\n",
    "                loss = self.cost(output, clean_image)\n",
    "\n",
    "                self.losses.append(loss.item())\n",
    "\n",
    "                #backpropogation\n",
    "\n",
    "                loss.backward()\n",
    "                self.optimizer.step() \n",
    "                self.optimizer.zero_grad()\n",
    "            print (f'Epoch [{epoch+1}], Loss: {self.losses[-1]:.4f}')"
   ]
  },
  {
   "cell_type": "code",
   "execution_count": 28,
   "metadata": {},
   "outputs": [
    {
     "ename": "KeyboardInterrupt",
     "evalue": "",
     "output_type": "error",
     "traceback": [
      "\u001b[0;31m---------------------------------------------------------------------------\u001b[0m",
      "\u001b[0;31mKeyboardInterrupt\u001b[0m                         Traceback (most recent call last)",
      "Cell \u001b[0;32mIn[28], line 2\u001b[0m\n\u001b[1;32m      1\u001b[0m trainer \u001b[38;5;241m=\u001b[39m Train(config)\n\u001b[0;32m----> 2\u001b[0m trainer\u001b[38;5;241m.\u001b[39mmodel_train()\n",
      "Cell \u001b[0;32mIn[27], line 35\u001b[0m, in \u001b[0;36mTrain.model_train\u001b[0;34m(self)\u001b[0m\n\u001b[1;32m     31\u001b[0m \u001b[38;5;28mself\u001b[39m\u001b[38;5;241m.\u001b[39mlosses\u001b[38;5;241m.\u001b[39mappend(loss\u001b[38;5;241m.\u001b[39mitem())\n\u001b[1;32m     33\u001b[0m \u001b[38;5;66;03m#backpropogation\u001b[39;00m\n\u001b[0;32m---> 35\u001b[0m loss\u001b[38;5;241m.\u001b[39mbackward()\n\u001b[1;32m     36\u001b[0m \u001b[38;5;28mself\u001b[39m\u001b[38;5;241m.\u001b[39moptimizer\u001b[38;5;241m.\u001b[39mstep() \n\u001b[1;32m     37\u001b[0m \u001b[38;5;28mself\u001b[39m\u001b[38;5;241m.\u001b[39moptimizer\u001b[38;5;241m.\u001b[39mzero_grad()\n",
      "File \u001b[0;32m/opt/anaconda3/lib/python3.12/site-packages/torch/_tensor.py:581\u001b[0m, in \u001b[0;36mTensor.backward\u001b[0;34m(self, gradient, retain_graph, create_graph, inputs)\u001b[0m\n\u001b[1;32m    571\u001b[0m \u001b[38;5;28;01mif\u001b[39;00m has_torch_function_unary(\u001b[38;5;28mself\u001b[39m):\n\u001b[1;32m    572\u001b[0m     \u001b[38;5;28;01mreturn\u001b[39;00m handle_torch_function(\n\u001b[1;32m    573\u001b[0m         Tensor\u001b[38;5;241m.\u001b[39mbackward,\n\u001b[1;32m    574\u001b[0m         (\u001b[38;5;28mself\u001b[39m,),\n\u001b[0;32m   (...)\u001b[0m\n\u001b[1;32m    579\u001b[0m         inputs\u001b[38;5;241m=\u001b[39minputs,\n\u001b[1;32m    580\u001b[0m     )\n\u001b[0;32m--> 581\u001b[0m torch\u001b[38;5;241m.\u001b[39mautograd\u001b[38;5;241m.\u001b[39mbackward(\n\u001b[1;32m    582\u001b[0m     \u001b[38;5;28mself\u001b[39m, gradient, retain_graph, create_graph, inputs\u001b[38;5;241m=\u001b[39minputs\n\u001b[1;32m    583\u001b[0m )\n",
      "File \u001b[0;32m/opt/anaconda3/lib/python3.12/site-packages/torch/autograd/__init__.py:347\u001b[0m, in \u001b[0;36mbackward\u001b[0;34m(tensors, grad_tensors, retain_graph, create_graph, grad_variables, inputs)\u001b[0m\n\u001b[1;32m    342\u001b[0m     retain_graph \u001b[38;5;241m=\u001b[39m create_graph\n\u001b[1;32m    344\u001b[0m \u001b[38;5;66;03m# The reason we repeat the same comment below is that\u001b[39;00m\n\u001b[1;32m    345\u001b[0m \u001b[38;5;66;03m# some Python versions print out the first line of a multi-line function\u001b[39;00m\n\u001b[1;32m    346\u001b[0m \u001b[38;5;66;03m# calls in the traceback and some print out the last line\u001b[39;00m\n\u001b[0;32m--> 347\u001b[0m _engine_run_backward(\n\u001b[1;32m    348\u001b[0m     tensors,\n\u001b[1;32m    349\u001b[0m     grad_tensors_,\n\u001b[1;32m    350\u001b[0m     retain_graph,\n\u001b[1;32m    351\u001b[0m     create_graph,\n\u001b[1;32m    352\u001b[0m     inputs,\n\u001b[1;32m    353\u001b[0m     allow_unreachable\u001b[38;5;241m=\u001b[39m\u001b[38;5;28;01mTrue\u001b[39;00m,\n\u001b[1;32m    354\u001b[0m     accumulate_grad\u001b[38;5;241m=\u001b[39m\u001b[38;5;28;01mTrue\u001b[39;00m,\n\u001b[1;32m    355\u001b[0m )\n",
      "File \u001b[0;32m/opt/anaconda3/lib/python3.12/site-packages/torch/autograd/graph.py:825\u001b[0m, in \u001b[0;36m_engine_run_backward\u001b[0;34m(t_outputs, *args, **kwargs)\u001b[0m\n\u001b[1;32m    823\u001b[0m     unregister_hooks \u001b[38;5;241m=\u001b[39m _register_logging_hooks_on_whole_graph(t_outputs)\n\u001b[1;32m    824\u001b[0m \u001b[38;5;28;01mtry\u001b[39;00m:\n\u001b[0;32m--> 825\u001b[0m     \u001b[38;5;28;01mreturn\u001b[39;00m Variable\u001b[38;5;241m.\u001b[39m_execution_engine\u001b[38;5;241m.\u001b[39mrun_backward(  \u001b[38;5;66;03m# Calls into the C++ engine to run the backward pass\u001b[39;00m\n\u001b[1;32m    826\u001b[0m         t_outputs, \u001b[38;5;241m*\u001b[39margs, \u001b[38;5;241m*\u001b[39m\u001b[38;5;241m*\u001b[39mkwargs\n\u001b[1;32m    827\u001b[0m     )  \u001b[38;5;66;03m# Calls into the C++ engine to run the backward pass\u001b[39;00m\n\u001b[1;32m    828\u001b[0m \u001b[38;5;28;01mfinally\u001b[39;00m:\n\u001b[1;32m    829\u001b[0m     \u001b[38;5;28;01mif\u001b[39;00m attach_logging_hooks:\n",
      "\u001b[0;31mKeyboardInterrupt\u001b[0m: "
     ]
    }
   ],
   "source": [
    "trainer = Train(config)\n",
    "trainer.model_train()"
   ]
  },
  {
   "cell_type": "code",
   "execution_count": 9,
   "metadata": {},
   "outputs": [],
   "source": [
    "def Denoise(Model, Noisy_image):\n",
    "    with torch.no_grad():\n",
    "        Noisy_image =  Noisy_image.reshape(-1, input_size)\n",
    "        Noisy_image = Noisy_image.type(torch.float32)\n",
    "        encoder_forward = Model.encoder_forward(Noisy_image)\n",
    "        output = Model.decoder_forward(encoder_forward)\n",
    "        output = output.reshape(28, 28)\n",
    "        output = output.detach().numpy()\n",
    "    return output "
   ]
  },
  {
   "cell_type": "code",
   "execution_count": 10,
   "metadata": {},
   "outputs": [
    {
     "data": {
      "text/plain": [
       "<matplotlib.image.AxesImage at 0x14ef7c0e0>"
      ]
     },
     "execution_count": 10,
     "metadata": {},
     "output_type": "execute_result"
    },
    {
     "data": {
      "image/png": "[encoded data removed]",
      "text/plain": [
       "<Figure size 640x480 with 1 Axes>"
      ]
     },
     "metadata": {},
     "output_type": "display_data"
    }
   ],
   "source": [
    "(noisy_image, clean_image), label = next(iter(test_loader))\n",
    "plt.imshow(noisy_image[1])\n"
   ]
  },
  {
   "cell_type": "code",
   "execution_count": 11,
   "metadata": {},
   "outputs": [
    {
     "ename": "NameError",
     "evalue": "name 'Model' is not defined",
     "output_type": "error",
     "traceback": [
      "\u001b[0;31m---------------------------------------------------------------------------\u001b[0m",
      "\u001b[0;31mNameError\u001b[0m                                 Traceback (most recent call last)",
      "Cell \u001b[0;32mIn[11], line 2\u001b[0m\n\u001b[1;32m      1\u001b[0m test_image \u001b[38;5;241m=\u001b[39m [Noisy_image[\u001b[38;5;241m1\u001b[39m], Noisy_image[\u001b[38;5;241m4\u001b[39m]]\n\u001b[0;32m----> 2\u001b[0m cleaned_test_image \u001b[38;5;241m=\u001b[39m Denoise(Model, test_image)\n\u001b[1;32m      3\u001b[0m plt\u001b[38;5;241m.\u001b[39mimshow(cleaned_test_image)\n",
      "\u001b[0;31mNameError\u001b[0m: name 'Model' is not defined"
     ]
    }
   ],
   "source": [
    "test_image = [noisy_image[1], noisy_image[4]]\n",
    "cleaned_test_image = Denoise(Model, test_image)\n",
    "plt.imshow(cleaned_test_image)"
   ]
  },
  {
   "cell_type": "code",
   "execution_count": null,
   "metadata": {},
   "outputs": [],
   "source": []
  }
 ],
 "metadata": {
  "kernelspec": {
   "display_name": "base",
   "language": "python",
   "name": "python3"
  },
  "language_info": {
   "codemirror_mode": {
    "name": "ipython",
    "version": 3
   },
   "file_extension": ".py",
   "mimetype": "text/x-python",
   "name": "python",
   "nbconvert_exporter": "python",
   "pygments_lexer": "ipython3",
   "version": "3.12.7"
  }
 },
 "nbformat": 4,
 "nbformat_minor": 2
}
