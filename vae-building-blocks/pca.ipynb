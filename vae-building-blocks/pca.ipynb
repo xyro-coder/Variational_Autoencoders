{
 "cells": [
  {
   "cell_type": "code",
   "execution_count": 1,
   "metadata": {},
   "outputs": [],
   "source": [
    "import numpy as np\n",
    "import matplotlib.pyplot as plt\n",
    "import scipy\n",
    "import sklearn\n",
    "from scipy.linalg import null_space"
   ]
  },
  {
   "cell_type": "code",
   "execution_count": 2,
   "metadata": {},
   "outputs": [
    {
     "data": {
      "text/plain": [
       "(150, 4)"
      ]
     },
     "execution_count": 2,
     "metadata": {},
     "output_type": "execute_result"
    }
   ],
   "source": [
    "#Generate Data\n",
    "iris = sklearn.datasets.load_iris()\n",
    "iris_data = iris.data - iris.data.mean(axis=0)\n",
    "iris_data.shape"
   ]
  },
  {
   "cell_type": "code",
   "execution_count": 50,
   "metadata": {},
   "outputs": [],
   "source": [
    "# we have 4 variables with each having 150 observations \n",
    "# the above will give a k by k, sample covareince matrix \n",
    "# from scartch and barely vectorized not optimized nor libraries used\n",
    "def Covariance_m(matrix):\n",
    "    size = matrix.shape[1]\n",
    "    Sample_covariance_m = np.zeros((size, size))\n",
    "    means = np.mean(matrix, axis=0)\n",
    "    centered_data = matrix - means\n",
    "    for j in range(len(Sample_covariance_m)):\n",
    "        for k in range(len(Sample_covariance_m)):\n",
    "            Sample_covariance_m[j , k] = np.sum(centered_data[:,j] * centered_data[:,k]) / (matrix.shape[0] -1)\n",
    "    return Sample_covariance_m\n",
    "\n",
    "def proj(b, a):\n",
    "    mul = ((np.dot(a, b)) / (np.dot(b, b)))\n",
    "    return mul * b\n",
    "\n",
    "def QR_factor(matrix):\n",
    "\n",
    "    size = len(matrix)\n",
    "    Q, R , u = np.zeros((size, size)), np.zeros((size, size)), np.zeros((size, size))\n",
    "\n",
    "    for k in range(size):\n",
    "        if k != 0:\n",
    "            final_sum = 0\n",
    "            for j in range(k):\n",
    "                initial_sum = proj(u[j], matrix[:,k])\n",
    "                final_sum += initial_sum\n",
    "            u[k] = matrix[:, k] - final_sum\n",
    "\n",
    "        else:\n",
    "            u[k] = matrix[:,0]\n",
    "            \n",
    "    for index in range(size):\n",
    "        e_i = u[index] / np.linalg.norm(u[index])\n",
    "        Q[:,index] = e_i\n",
    "\n",
    "    for i in range(size):\n",
    "        for j in range(i , size):\n",
    "            R[i, j] = np.dot(Q[:,i], matrix[:,j])\n",
    "    return Q , R\n",
    "\n",
    "def QR_alg(A_0, max_iter=1000):\n",
    "\n",
    "    Q, R = QR_factor(A_0)\n",
    "    for _ in range(max_iter):\n",
    "        A_0 = np.dot(R, Q)\n",
    "        Q, R = QR_factor(A_0)\n",
    "    return A_0\n",
    "\n",
    "def sorted_eigenvalues(matrix):\n",
    "    eigen = QR_alg(matrix)\n",
    "    eigenvalues = []\n",
    "    for i in range(len(eigen)):\n",
    "        for j in range(i, len(eigen)):\n",
    "            if i == j:\n",
    "                eigenvalues.append(eigen[i, j])\n",
    "    return sorted(eigenvalues, reverse=True)\n",
    "\n",
    "def sorted_eigenvectors(matrix):\n",
    "    size = len(matrix)\n",
    "    eigenvectors = np.zeros((size, size))\n",
    "    eigenvalues_list = sorted_eigenvalues(matrix)\n",
    "\n",
    "    for index, eigenvalue in enumerate(eigenvalues_list):\n",
    "\n",
    "        A = matrix - eigenvalue * np.identity(size, dtype=None, like=None)\n",
    "        eigenvector = null_space(A)\n",
    "        eigenvectors[:, index] = eigenvector.T / np.linalg.norm(eigenvector)\n",
    "    return eigenvectors\n",
    "\n",
    "def PCA(Data, axes):\n",
    "    centered_data = Data - np.mean(Data, axis=0) \n",
    "\n",
    "    Covariance_matrix = Covariance_m(Data)\n",
    "\n",
    "    sorted_eigenvectors_cov = sorted_eigenvectors(Covariance_matrix)[:, 0 : axes]\n",
    "    projected_data = np.dot(centered_data,sorted_eigenvectors_cov)\n",
    "\n",
    "\n",
    "    \n",
    "\n",
    "    return projected_data\n",
    "\n",
    "\n"
   ]
  },
  {
   "cell_type": "code",
   "execution_count": 51,
   "metadata": {},
   "outputs": [],
   "source": []
  },
  {
   "cell_type": "code",
   "execution_count": 52,
   "metadata": {},
   "outputs": [
    {
     "data": {
      "text/plain": [
       "<matplotlib.collections.PathCollection at 0x157430e00>"
      ]
     },
     "execution_count": 52,
     "metadata": {},
     "output_type": "execute_result"
    },
    {
     "data": {
      "image/png": "[encoded data removed]",
      "text/plain": [
       "<Figure size 640x480 with 1 Axes>"
      ]
     },
     "metadata": {},
     "output_type": "display_data"
    }
   ],
   "source": [
    "projected_data = PCA(iris_data, 2)\n",
    "plt.scatter(projected_data[:, 0], projected_data[:, 1])"
   ]
  },
  {
   "cell_type": "code",
   "execution_count": null,
   "metadata": {},
   "outputs": [],
   "source": []
  }
 ],
 "metadata": {
  "kernelspec": {
   "display_name": "base",
   "language": "python",
   "name": "python3"
  },
  "language_info": {
   "codemirror_mode": {
    "name": "ipython",
    "version": 3
   },
   "file_extension": ".py",
   "mimetype": "text/x-python",
   "name": "python",
   "nbconvert_exporter": "python",
   "pygments_lexer": "ipython3",
   "version": "3.12.7"
  }
 },
 "nbformat": 4,
 "nbformat_minor": 2
}
