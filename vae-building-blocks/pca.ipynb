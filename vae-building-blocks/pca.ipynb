{
 "cells": [
  {
   "cell_type": "code",
   "execution_count": 112,
   "metadata": {},
   "outputs": [],
   "source": [
    "import numpy as np\n",
    "import matplotlib.pyplot as plt\n",
    "import scipy\n",
    "import sklearn\n",
    "from scipy.linalg import null_space"
   ]
  },
  {
   "cell_type": "code",
   "execution_count": 113,
   "metadata": {},
   "outputs": [
    {
     "data": {
      "text/plain": [
       "(150, 4)"
      ]
     },
     "execution_count": 113,
     "metadata": {},
     "output_type": "execute_result"
    }
   ],
   "source": [
    "#Generate Data\n",
    "iris = sklearn.datasets.load_iris()\n",
    "iris_data = iris.data - iris.data.mean(axis=0)\n",
    "iris_data.shape"
   ]
  },
  {
   "cell_type": "code",
   "execution_count": 141,
   "metadata": {},
   "outputs": [],
   "source": [
    "# we have 4 variables with each having 150 observations \n",
    "# the above will give a k by k, sample covareince matrix \n",
    "# from scartch and barely vectorized not optimized nor libraries used\n",
    "def Covariance_m(matrix):\n",
    "    size = matrix.shape[1]\n",
    "    Sample_covariance_m = np.zeros((size, size))\n",
    "    means = np.mean(matrix, axis=0)\n",
    "    centered_data = matrix - means\n",
    "    for j in range(len(Sample_covariance_m)):\n",
    "        for k in range(len(Sample_covariance_m)):\n",
    "            Sample_covariance_m[j , k] = np.sum(centered_data[:,j] * centered_data[:,k]) / (matrix.shape[0] -1)\n",
    "    return Sample_covariance_m\n",
    "def proj(b, a):\n",
    "    mul = ((np.dot(a, b)) / (np.dot(b, b)))\n",
    "    return mul * b\n",
    "def QR_factor(matrix):\n",
    "    size = len(matrix)\n",
    "    Q, R , u = np.zeros((size, size)), np.zeros((size, size)), np.zeros((size, size))\n",
    "    for k in range(size):\n",
    "        if k == 0:\n",
    "            u[k] = matrix[:,0]\n",
    "        else:\n",
    "            final_sum = 0\n",
    "            for j in range(k):\n",
    "                sum = proj(u[j], matrix[:,k])\n",
    "                final_sum += sum\n",
    "            u[k] = matrix[:, k] - final_sum\n",
    "    for index in range(size):\n",
    "        e_i = u[index] / np.linalg.norm(u[index])\n",
    "        Q[:,index] = e_i\n",
    "    for i in range(size):\n",
    "        for j in range(i , size):\n",
    "            R[i, j] = np.dot(Q[:,i], matrix[:,j])\n",
    "    return Q , R\n",
    "def QR_alg(A_0):\n",
    "    Q, R = QR_factor(A_0)\n",
    "    for _ in range(10000):\n",
    "        A_0 = np.dot(R, Q)\n",
    "        Q, R = QR_factor(A_0)\n",
    "    return A_0\n",
    "def eigenvalues(matrix):\n",
    "    eigen = QR_alg(matrix)\n",
    "    eigenvalues = []\n",
    "    for i in range(len(eigen)):\n",
    "        for j in range(i, len(eigen)):\n",
    "            if i == j:\n",
    "                eigenvalues.append(eigen[i, j])\n",
    "    return eigenvalues\n",
    "\n",
    "def eigenvectors(matrix):\n",
    "    size = len(matrix)\n",
    "    eigenvectors = np.zeros((size, size))\n",
    "    eigenvalues_list = eigenvalues(matrix)\n",
    "    eigenvalues_list = sorted(eigenvalues_list)\n",
    "\n",
    "    for index, eigenvalue in enumerate(eigenvalues_list):\n",
    "\n",
    "        A = matrix - eigenvalue * np.identity(size, dtype=None, like=None)\n",
    "        eigenvector = null_space(A)\n",
    "        eigenvectors[:, index] = eigenvector.T / np.linalg.norm(eigenvector)\n",
    "    return eigenvectors\n",
    "\n",
    "\n",
    "\n",
    "\n",
    "        \n",
    "\n",
    "    \n"
   ]
  },
  {
   "cell_type": "code",
   "execution_count": 142,
   "metadata": {},
   "outputs": [],
   "source": [
    "s = Covariance_m(iris_data)\n",
    "Q, R = QR_factor(s)\n"
   ]
  },
  {
   "cell_type": "code",
   "execution_count": 143,
   "metadata": {},
   "outputs": [],
   "source": [
    "k = eigenvalues(s)"
   ]
  },
  {
   "cell_type": "code",
   "execution_count": 144,
   "metadata": {},
   "outputs": [
    {
     "data": {
      "text/plain": [
       "array([[ 0.31548719, -0.58202985, -0.65658877,  0.36138659],\n",
       "       [-0.3197231 ,  0.59791083, -0.73016143, -0.08452251],\n",
       "       [-0.47983899,  0.07623608,  0.17337266,  0.85667061],\n",
       "       [ 0.75365743,  0.54583143,  0.07548102,  0.3582892 ]])"
      ]
     },
     "execution_count": 144,
     "metadata": {},
     "output_type": "execute_result"
    }
   ],
   "source": [
    "eigenvectors(s)"
   ]
  },
  {
   "cell_type": "code",
   "execution_count": 145,
   "metadata": {},
   "outputs": [
    {
     "data": {
      "text/plain": [
       "EigResult(eigenvalues=array([4.22824171, 0.24267075, 0.0782095 , 0.02383509]), eigenvectors=array([[ 0.36138659, -0.65658877, -0.58202985,  0.31548719],\n",
       "       [-0.08452251, -0.73016143,  0.59791083, -0.3197231 ],\n",
       "       [ 0.85667061,  0.17337266,  0.07623608, -0.47983899],\n",
       "       [ 0.3582892 ,  0.07548102,  0.54583143,  0.75365743]]))"
      ]
     },
     "execution_count": 145,
     "metadata": {},
     "output_type": "execute_result"
    }
   ],
   "source": [
    "np.linalg.eig(s)"
   ]
  },
  {
   "cell_type": "code",
   "execution_count": null,
   "metadata": {},
   "outputs": [],
   "source": []
  }
 ],
 "metadata": {
  "kernelspec": {
   "display_name": "base",
   "language": "python",
   "name": "python3"
  },
  "language_info": {
   "codemirror_mode": {
    "name": "ipython",
    "version": 3
   },
   "file_extension": ".py",
   "mimetype": "text/x-python",
   "name": "python",
   "nbconvert_exporter": "python",
   "pygments_lexer": "ipython3",
   "version": "3.12.7"
  }
 },
 "nbformat": 4,
 "nbformat_minor": 2
}
