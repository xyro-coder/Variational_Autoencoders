{
 "cells": [
  {
   "cell_type": "markdown",
   "metadata": {},
   "source": [
    "### Autoencoders "
   ]
  },
  {
   "cell_type": "code",
   "execution_count": 1,
   "metadata": {},
   "outputs": [],
   "source": [
    "import numpy as np\n",
    "import pandas as pd \n",
    "import matplotlib.pyplot as plt \n",
    "import sklearn\n",
    "import torch\n",
    "import torch.nn as nn\n",
    "import torch.optim as optim\n",
    "import torch.nn.functional as F\n",
    "import torchvision\n",
    "from torchvision import transforms\n",
    "import inspect"
   ]
  },
  {
   "cell_type": "code",
   "execution_count": 2,
   "metadata": {},
   "outputs": [
    {
     "data": {
      "text/plain": [
       "<torch._C.Generator at 0x169070350>"
      ]
     },
     "execution_count": 2,
     "metadata": {},
     "output_type": "execute_result"
    }
   ],
   "source": [
    "torch.manual_seed(0)"
   ]
  },
  {
   "cell_type": "code",
   "execution_count": 3,
   "metadata": {},
   "outputs": [],
   "source": [
    "config = {\"input_size\" : 784,\n",
    "\"h1\" : 512,\n",
    "\"h2\" : 256,\n",
    "\"bottleneck\" : 128,\n",
    "\"h3\" : 256,\n",
    "\"h4\" : 512,\n",
    "\"lr\" : 0.001,\n",
    "\"number_epoch\" : 100,\n",
    "\"batch_size\" : 100}\n",
    "# works better then 784 - 284 - 128"
   ]
  },
  {
   "cell_type": "code",
   "execution_count": 4,
   "metadata": {},
   "outputs": [],
   "source": [
    "class Noisify:\n",
    "    def __init__(self, noise_level):\n",
    "        self.noise_level = noise_level\n",
    "    def __call__(self, sample):\n",
    "        if len(sample) > 0:\n",
    "            clean_image = sample[0]\n",
    "        else:\n",
    "            raise ValueError(\"Sample is empty!\")\n",
    "        noise = self.noise_level * np.random.normal(0, 1, size=clean_image.shape)\n",
    "        noisy_image = clean_image + noise\n",
    "        all_images = (noisy_image, clean_image)\n",
    "        return all_images"
   ]
  },
  {
   "cell_type": "code",
   "execution_count": null,
   "metadata": {},
   "outputs": [],
   "source": [
    "transformation = transforms.Compose([transforms.ToTensor(),  Noisify(0.15)])\n",
    "\n",
    "\n",
    "train_dataset = torchvision.datasets.MNIST(root='./data', train=True, transform=transformation, download=True)\n",
    "test_dataset = torchvision.datasets.MNIST(root='./data', train=False, transform=transformation, download=True)\n",
    "\n",
    "train_loader = torch.utils.data.DataLoader(dataset=train_dataset, batch_size=config[\"batch_size\"], shuffle=True)\n",
    "test_loader = torch.utils.data.DataLoader(dataset=test_dataset, batch_size=config[\"batch_size\"], shuffle=False)"
   ]
  },
  {
   "cell_type": "code",
   "execution_count": 6,
   "metadata": {},
   "outputs": [],
   "source": [
    "class DenoisingAutoencoder(nn.Module):\n",
    "    def __init__(self, input_size, h1, h2, bottleneck, h3, h4):\n",
    "\n",
    "        super(DenoisingAutoencoder, self).__init__()\n",
    "        \n",
    "        self.encoding_layers = nn.Sequential(\n",
    "            nn.Linear(input_size, h1),\n",
    "            nn.ReLU(),\n",
    "            nn.Linear(h1, h2),\n",
    "            nn.ReLU(),\n",
    "            nn.Linear(h2, bottleneck)\n",
    "        )\n",
    "\n",
    "        self.decoding_layers = nn.Sequential(\n",
    "            nn.Linear(bottleneck, h3),\n",
    "            nn.ReLU(),\n",
    "            nn.Linear(h3, h4),\n",
    "            nn.ReLU(),\n",
    "            nn.Linear(h4, input_size)\n",
    "        )  \n",
    "    def encoder_forward(self, noisy_image):\n",
    "\n",
    "        out = self.encoding_layers(noisy_image)\n",
    "        return out\n",
    "    \n",
    "    def decoder_forward(self, encoded_forward):\n",
    "\n",
    "        out = self.decoding_layers(encoded_forward)\n",
    "        return out\n",
    "    \n",
    "    def forward(self, noisy_image):\n",
    "\n",
    "        encoder_forward = self.encoder_forward(noisy_image)\n",
    "        decoded_forward = self.decoder_forward(encoder_forward)\n",
    "        return decoded_forward"
   ]
  },
  {
   "cell_type": "code",
   "execution_count": 7,
   "metadata": {},
   "outputs": [],
   "source": [
    "class Model_Trainer:\n",
    "    def __init__(self, config, train_loader):\n",
    "        self.train_loader = train_loader\n",
    "        self.config = config\n",
    "        self.losses = []\n",
    "\n",
    "        # not my code next two lines from online \n",
    "        sig = inspect.signature(DenoisingAutoencoder.__init__)\n",
    "        keys_list = [key for key in sig.parameters.keys() if key != 'self']\n",
    "        \n",
    "        if not set(keys_list).issubset(config):\n",
    "            missing = [key for key in keys_list if key not in config]\n",
    "            raise KeyError(f\"You are missing {missing} key\")\n",
    "        \n",
    "        self.model = DenoisingAutoencoder(*[config[key] for key in keys_list])\n",
    "\n",
    "        self.cost = nn.MSELoss()\n",
    "        self.optimizer = optim.Adam(self.model.parameters(), lr=self.config[\"lr\"])\n",
    "\n",
    "    def fit(self): \n",
    "        for epoch in range(self.config[\"number_epoch\"]):\n",
    "            epoch_loss = []\n",
    "            for (i, ((noisy_image, clean_image), label) )in enumerate(self.train_loader):       \n",
    "                #Forward pass\n",
    "                noisy_image, clean_image = noisy_image.reshape(-1, self.config[\"input_size\"]), clean_image.reshape(-1, self.config[\"input_size\"])\n",
    "\n",
    "                noisy_image = noisy_image.type(torch.float32)\n",
    "                clean_image = clean_image.type(torch.float32)\n",
    "\n",
    "                output = self.model.forward(noisy_image)\n",
    "                loss = self.cost(output, clean_image)\n",
    "                self.losses.append(loss.item())\n",
    "                epoch_loss.append(loss.item())\n",
    "                #backpropogation\n",
    "\n",
    "                loss.backward()\n",
    "                self.optimizer.step() \n",
    "                self.optimizer.zero_grad()\n",
    "\n",
    "                avg_loss = sum(epoch_loss) / len(epoch_loss)\n",
    "                if i % 100 == 0:\n",
    "                    print(f'Epoch [{epoch+1}/{self.config[\"number_epoch\"]}], Avg Loss: {avg_loss:.6f}')"
   ]
  },
  {
   "cell_type": "code",
   "execution_count": null,
   "metadata": {},
   "outputs": [],
   "source": [
    "trainer = Model_Trainer(config, train_loader)\n",
    "trainer.fit()"
   ]
  },
  {
   "cell_type": "code",
   "execution_count": 9,
   "metadata": {},
   "outputs": [],
   "source": [
    "\n",
    "model = trainer.model"
   ]
  },
  {
   "cell_type": "code",
   "execution_count": 10,
   "metadata": {},
   "outputs": [],
   "source": [
    "def Denoise(model, noisy_image):\n",
    "    with torch.no_grad():\n",
    "        noisy_image =  noisy_image.reshape(-1, config[\"input_size\"])\n",
    "        noisy_image = noisy_image.type(torch.float32)\n",
    "        output = model.forward(noisy_image)\n",
    "        output = output.reshape(28, 28)\n",
    "        output = output.detach().numpy()\n",
    "    return output "
   ]
  },
  {
   "cell_type": "code",
   "execution_count": 14,
   "metadata": {},
   "outputs": [
    {
     "data": {
      "text/plain": [
       "<matplotlib.image.AxesImage at 0x30cdb2ab0>"
      ]
     },
     "execution_count": 14,
     "metadata": {},
     "output_type": "execute_result"
    },
    {
     "data": {
      "image/png": "[encoded data removed]",
      "text/plain": [
       "<Figure size 640x480 with 1 Axes>"
      ]
     },
     "metadata": {},
     "output_type": "display_data"
    }
   ],
   "source": [
    "(noisy_image, clean_image), label = next(iter(test_loader))\n",
    "plt.imshow(noisy_image[4])\n"
   ]
  },
  {
   "cell_type": "code",
   "execution_count": 16,
   "metadata": {},
   "outputs": [
    {
     "data": {
      "text/plain": [
       "<matplotlib.image.AxesImage at 0x1781e55b0>"
      ]
     },
     "execution_count": 16,
     "metadata": {},
     "output_type": "execute_result"
    },
    {
     "data": {
      "image/png": "[encoded data removed]",
      "text/plain": [
       "<Figure size 640x480 with 1 Axes>"
      ]
     },
     "metadata": {},
     "output_type": "display_data"
    }
   ],
   "source": [
    "test_image = noisy_image[4]\n",
    "cleaned_test_image = Denoise(model, test_image)\n",
    "plt.imshow(cleaned_test_image)"
   ]
  }
 ],
 "metadata": {
  "kernelspec": {
   "display_name": "base",
   "language": "python",
   "name": "python3"
  },
  "language_info": {
   "codemirror_mode": {
    "name": "ipython",
    "version": 3
   },
   "file_extension": ".py",
   "mimetype": "text/x-python",
   "name": "python",
   "nbconvert_exporter": "python",
   "pygments_lexer": "ipython3",
   "version": "3.12.7"
  }
 },
 "nbformat": 4,
 "nbformat_minor": 2
}
