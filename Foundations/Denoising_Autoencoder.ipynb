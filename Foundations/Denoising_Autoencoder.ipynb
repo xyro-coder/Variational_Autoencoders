{
 "cells": [
  {
   "cell_type": "markdown",
   "metadata": {},
   "source": [
    "### Autoencoders "
   ]
  },
  {
   "cell_type": "code",
   "execution_count": 1,
   "metadata": {},
   "outputs": [],
   "source": [
    "import numpy as np\n",
    "import pandas as pd \n",
    "import matplotlib.pyplot as plt \n",
    "import sklearn\n",
    "import torch\n",
    "import torch.nn as nn\n",
    "import torch.optim as optim\n",
    "import torch.nn.functional as F\n",
    "import torchvision\n",
    "from torchvision import transforms\n",
    "import inspect"
   ]
  },
  {
   "cell_type": "code",
   "execution_count": 2,
   "metadata": {},
   "outputs": [
    {
     "data": {
      "text/plain": [
       "<torch._C.Generator at 0x1627744b0>"
      ]
     },
     "execution_count": 2,
     "metadata": {},
     "output_type": "execute_result"
    }
   ],
   "source": [
    "torch.manual_seed(0)"
   ]
  },
  {
   "cell_type": "code",
   "execution_count": 3,
   "metadata": {},
   "outputs": [],
   "source": [
    "config = {\"input_size\" : 784,\n",
    "\"h1\" : 512,\n",
    "\"h2\" : 256,\n",
    "\"bottleneck\" : 128,\n",
    "\"h3\" : 256,\n",
    "\"h4\" : 512,\n",
    "\"lr\" : 0.001,\n",
    "\"number_epoch\" : 100,\n",
    "\"batch_size\" : 100}\n",
    "# works better then 784 - 284 - 128"
   ]
  },
  {
   "cell_type": "code",
   "execution_count": 4,
   "metadata": {},
   "outputs": [],
   "source": [
    "class Noisify:\n",
    "    def __init__(self, noise_level):\n",
    "        self.noise_level = noise_level\n",
    "    def __call__(self, sample):\n",
    "        if len(sample) > 0:\n",
    "            clean_image = sample[0]\n",
    "        else:\n",
    "            raise ValueError(\"Sample is empty!\")\n",
    "        noise = self.noise_level * np.random.normal(0, 1, size=clean_image.shape)\n",
    "        noisy_image = clean_image + noise\n",
    "        all_images = (noisy_image, clean_image)\n",
    "        return all_images"
   ]
  },
  {
   "cell_type": "code",
   "execution_count": 5,
   "metadata": {},
   "outputs": [
    {
     "name": "stdout",
     "output_type": "stream",
     "text": [
      "Downloading http://yann.lecun.com/exdb/mnist/train-images-idx3-ubyte.gz\n",
      "Failed to download (trying next):\n",
      "HTTP Error 404: Not Found\n",
      "\n",
      "Downloading https://ossci-datasets.s3.amazonaws.com/mnist/train-images-idx3-ubyte.gz\n",
      "Downloading https://ossci-datasets.s3.amazonaws.com/mnist/train-images-idx3-ubyte.gz to ./data/MNIST/raw/train-images-idx3-ubyte.gz\n"
     ]
    },
    {
     "name": "stderr",
     "output_type": "stream",
     "text": [
      "100%|██████████| 9.91M/9.91M [00:01<00:00, 5.38MB/s]\n"
     ]
    },
    {
     "name": "stdout",
     "output_type": "stream",
     "text": [
      "Extracting ./data/MNIST/raw/train-images-idx3-ubyte.gz to ./data/MNIST/raw\n",
      "\n",
      "Downloading http://yann.lecun.com/exdb/mnist/train-labels-idx1-ubyte.gz\n",
      "Failed to download (trying next):\n",
      "HTTP Error 404: Not Found\n",
      "\n",
      "Downloading https://ossci-datasets.s3.amazonaws.com/mnist/train-labels-idx1-ubyte.gz\n",
      "Downloading https://ossci-datasets.s3.amazonaws.com/mnist/train-labels-idx1-ubyte.gz to ./data/MNIST/raw/train-labels-idx1-ubyte.gz\n"
     ]
    },
    {
     "name": "stderr",
     "output_type": "stream",
     "text": [
      "100%|██████████| 28.9k/28.9k [00:00<00:00, 359kB/s]\n"
     ]
    },
    {
     "name": "stdout",
     "output_type": "stream",
     "text": [
      "Extracting ./data/MNIST/raw/train-labels-idx1-ubyte.gz to ./data/MNIST/raw\n",
      "\n",
      "Downloading http://yann.lecun.com/exdb/mnist/t10k-images-idx3-ubyte.gz\n",
      "Failed to download (trying next):\n",
      "HTTP Error 404: Not Found\n",
      "\n",
      "Downloading https://ossci-datasets.s3.amazonaws.com/mnist/t10k-images-idx3-ubyte.gz\n",
      "Downloading https://ossci-datasets.s3.amazonaws.com/mnist/t10k-images-idx3-ubyte.gz to ./data/MNIST/raw/t10k-images-idx3-ubyte.gz\n"
     ]
    },
    {
     "name": "stderr",
     "output_type": "stream",
     "text": [
      "100%|██████████| 1.65M/1.65M [00:00<00:00, 2.98MB/s]\n"
     ]
    },
    {
     "name": "stdout",
     "output_type": "stream",
     "text": [
      "Extracting ./data/MNIST/raw/t10k-images-idx3-ubyte.gz to ./data/MNIST/raw\n",
      "\n",
      "Downloading http://yann.lecun.com/exdb/mnist/t10k-labels-idx1-ubyte.gz\n",
      "Failed to download (trying next):\n",
      "HTTP Error 404: Not Found\n",
      "\n",
      "Downloading https://ossci-datasets.s3.amazonaws.com/mnist/t10k-labels-idx1-ubyte.gz\n",
      "Downloading https://ossci-datasets.s3.amazonaws.com/mnist/t10k-labels-idx1-ubyte.gz to ./data/MNIST/raw/t10k-labels-idx1-ubyte.gz\n"
     ]
    },
    {
     "name": "stderr",
     "output_type": "stream",
     "text": [
      "100%|██████████| 4.54k/4.54k [00:00<00:00, 3.16MB/s]"
     ]
    },
    {
     "name": "stdout",
     "output_type": "stream",
     "text": [
      "Extracting ./data/MNIST/raw/t10k-labels-idx1-ubyte.gz to ./data/MNIST/raw\n",
      "\n"
     ]
    },
    {
     "name": "stderr",
     "output_type": "stream",
     "text": [
      "\n"
     ]
    }
   ],
   "source": [
    "transformation = transforms.Compose([transforms.ToTensor(),  Noisify(0.15)])\n",
    "\n",
    "\n",
    "train_dataset = torchvision.datasets.MNIST(root='./data', train=True, transform=transformation, download=True)\n",
    "test_dataset = torchvision.datasets.MNIST(root='./data', train=False, transform=transformation, download=True)\n",
    "\n",
    "train_loader = torch.utils.data.DataLoader(dataset=train_dataset, batch_size=config[\"batch_size\"], shuffle=True)\n",
    "test_loader = torch.utils.data.DataLoader(dataset=test_dataset, batch_size=config[\"batch_size\"], shuffle=False)"
   ]
  },
  {
   "cell_type": "code",
   "execution_count": 6,
   "metadata": {},
   "outputs": [],
   "source": [
    "class DenoisingAutoencoder(nn.Module):\n",
    "    def __init__(self, input_size, h1, h2, bottleneck, h3, h4):\n",
    "\n",
    "        super(DenoisingAutoencoder, self).__init__()\n",
    "        \n",
    "        self.encoding_layers = nn.Sequential(\n",
    "            nn.Linear(input_size, h1),\n",
    "            nn.ReLU(),\n",
    "            nn.Linear(h1, h2),\n",
    "            nn.ReLU(),\n",
    "            nn.Linear(h2, bottleneck)\n",
    "        )\n",
    "\n",
    "        self.decoding_layers = nn.Sequential(\n",
    "            nn.Linear(bottleneck, h3),\n",
    "            nn.ReLU(),\n",
    "            nn.Linear(h3, h4),\n",
    "            nn.ReLU(),\n",
    "            nn.Linear(h4, input_size)\n",
    "        )  \n",
    "    def encoder_forward(self, noisy_image):\n",
    "\n",
    "        out = self.encoding_layers(noisy_image)\n",
    "        return out\n",
    "    \n",
    "    def decoder_forward(self, encoded_forward):\n",
    "\n",
    "        out = self.decoding_layers(encoded_forward)\n",
    "        return out\n",
    "    \n",
    "    def forward(self, noisy_image):\n",
    "\n",
    "        encoder_forward = self.encoder_forward(noisy_image)\n",
    "        decoded_forward = self.decoder_forward(encoder_forward)\n",
    "        return decoded_forward"
   ]
  },
  {
   "cell_type": "code",
   "execution_count": 7,
   "metadata": {},
   "outputs": [],
   "source": [
    "class Model_Trainer:\n",
    "    def __init__(self, config, train_loader):\n",
    "        self.train_loader = train_loader\n",
    "        self.config = config\n",
    "        self.losses = []\n",
    "\n",
    "        # not my code next two lines from online \n",
    "        sig = inspect.signature(DenoisingAutoencoder.__init__)\n",
    "        keys_list = [key for key in sig.parameters.keys() if key != 'self']\n",
    "        \n",
    "        if not set(keys_list).issubset(config):\n",
    "            missing = [key for key in keys_list if key not in config]\n",
    "            raise KeyError(f\"You are missing {missing} key\")\n",
    "        \n",
    "        self.model = DenoisingAutoencoder(*[config[key] for key in keys_list])\n",
    "\n",
    "        self.cost = nn.MSELoss()\n",
    "        self.optimizer = optim.Adam(self.model.parameters(), lr=self.config[\"lr\"])\n",
    "\n",
    "    def fit(self): \n",
    "        for epoch in range(self.config[\"number_epoch\"]):\n",
    "            epoch_loss = []\n",
    "            for (i, ((noisy_image, clean_image), label) )in enumerate(self.train_loader):       \n",
    "                #Forward pass\n",
    "                noisy_image, clean_image = noisy_image.reshape(-1, self.config[\"input_size\"]), clean_image.reshape(-1, self.config[\"input_size\"])\n",
    "\n",
    "                noisy_image = noisy_image.type(torch.float32)\n",
    "                clean_image = clean_image.type(torch.float32)\n",
    "\n",
    "                output = self.model.forward(noisy_image)\n",
    "\n",
    "                loss = self.cost(output, clean_image)\n",
    "                self.losses.append(loss.item())\n",
    "                epoch_loss.append(loss.item())\n",
    "                #backpropogation\n",
    "\n",
    "                loss.backward()\n",
    "                self.optimizer.step() \n",
    "                self.optimizer.zero_grad()\n",
    "\n",
    "                avg_loss = sum(epoch_loss) / len(epoch_loss)\n",
    "                if i % 100 == 0:\n",
    "                    print(f'Epoch [{epoch+1}/{self.config[\"number_epoch\"]}], Avg Loss: {avg_loss:.6f}')"
   ]
  },
  {
   "cell_type": "code",
   "execution_count": 9,
   "metadata": {},
   "outputs": [
    {
     "name": "stdout",
     "output_type": "stream",
     "text": [
      "torch.Size([100, 784])\n",
      "Epoch [1/100], Avg Loss: 0.114255\n",
      "torch.Size([100, 784])\n",
      "torch.Size([100, 784])\n",
      "torch.Size([100, 784])\n",
      "torch.Size([100, 784])\n",
      "torch.Size([100, 784])\n",
      "torch.Size([100, 784])\n",
      "torch.Size([100, 784])\n",
      "torch.Size([100, 784])\n",
      "torch.Size([100, 784])\n",
      "torch.Size([100, 784])\n",
      "torch.Size([100, 784])\n",
      "torch.Size([100, 784])\n",
      "torch.Size([100, 784])\n",
      "torch.Size([100, 784])\n",
      "torch.Size([100, 784])\n",
      "torch.Size([100, 784])\n",
      "torch.Size([100, 784])\n",
      "torch.Size([100, 784])\n",
      "torch.Size([100, 784])\n",
      "torch.Size([100, 784])\n",
      "torch.Size([100, 784])\n",
      "torch.Size([100, 784])\n",
      "torch.Size([100, 784])\n",
      "torch.Size([100, 784])\n",
      "torch.Size([100, 784])\n",
      "torch.Size([100, 784])\n",
      "torch.Size([100, 784])\n",
      "torch.Size([100, 784])\n",
      "torch.Size([100, 784])\n",
      "torch.Size([100, 784])\n",
      "torch.Size([100, 784])\n",
      "torch.Size([100, 784])\n",
      "torch.Size([100, 784])\n",
      "torch.Size([100, 784])\n",
      "torch.Size([100, 784])\n",
      "torch.Size([100, 784])\n",
      "torch.Size([100, 784])\n",
      "torch.Size([100, 784])\n",
      "torch.Size([100, 784])\n",
      "torch.Size([100, 784])\n",
      "torch.Size([100, 784])\n",
      "torch.Size([100, 784])\n",
      "torch.Size([100, 784])\n",
      "torch.Size([100, 784])\n",
      "torch.Size([100, 784])\n",
      "torch.Size([100, 784])\n",
      "torch.Size([100, 784])\n",
      "torch.Size([100, 784])\n",
      "torch.Size([100, 784])\n",
      "torch.Size([100, 784])\n",
      "torch.Size([100, 784])\n",
      "torch.Size([100, 784])\n",
      "torch.Size([100, 784])\n",
      "torch.Size([100, 784])\n",
      "torch.Size([100, 784])\n",
      "torch.Size([100, 784])\n",
      "torch.Size([100, 784])\n",
      "torch.Size([100, 784])\n",
      "torch.Size([100, 784])\n",
      "torch.Size([100, 784])\n",
      "torch.Size([100, 784])\n",
      "torch.Size([100, 784])\n",
      "torch.Size([100, 784])\n",
      "torch.Size([100, 784])\n",
      "torch.Size([100, 784])\n",
      "torch.Size([100, 784])\n",
      "torch.Size([100, 784])\n",
      "torch.Size([100, 784])\n",
      "torch.Size([100, 784])\n",
      "torch.Size([100, 784])\n",
      "torch.Size([100, 784])\n",
      "torch.Size([100, 784])\n",
      "torch.Size([100, 784])\n",
      "torch.Size([100, 784])\n",
      "torch.Size([100, 784])\n",
      "torch.Size([100, 784])\n",
      "torch.Size([100, 784])\n",
      "torch.Size([100, 784])\n",
      "torch.Size([100, 784])\n",
      "torch.Size([100, 784])\n",
      "torch.Size([100, 784])\n",
      "torch.Size([100, 784])\n",
      "torch.Size([100, 784])\n",
      "torch.Size([100, 784])\n",
      "torch.Size([100, 784])\n",
      "torch.Size([100, 784])\n",
      "torch.Size([100, 784])\n",
      "torch.Size([100, 784])\n",
      "torch.Size([100, 784])\n",
      "torch.Size([100, 784])\n",
      "torch.Size([100, 784])\n",
      "torch.Size([100, 784])\n",
      "torch.Size([100, 784])\n",
      "torch.Size([100, 784])\n",
      "torch.Size([100, 784])\n",
      "torch.Size([100, 784])\n",
      "torch.Size([100, 784])\n",
      "torch.Size([100, 784])\n",
      "torch.Size([100, 784])\n",
      "torch.Size([100, 784])\n",
      "Epoch [1/100], Avg Loss: 0.058360\n",
      "torch.Size([100, 784])\n",
      "torch.Size([100, 784])\n",
      "torch.Size([100, 784])\n",
      "torch.Size([100, 784])\n",
      "torch.Size([100, 784])\n",
      "torch.Size([100, 784])\n",
      "torch.Size([100, 784])\n",
      "torch.Size([100, 784])\n",
      "torch.Size([100, 784])\n",
      "torch.Size([100, 784])\n",
      "torch.Size([100, 784])\n",
      "torch.Size([100, 784])\n",
      "torch.Size([100, 784])\n",
      "torch.Size([100, 784])\n",
      "torch.Size([100, 784])\n",
      "torch.Size([100, 784])\n",
      "torch.Size([100, 784])\n",
      "torch.Size([100, 784])\n",
      "torch.Size([100, 784])\n",
      "torch.Size([100, 784])\n",
      "torch.Size([100, 784])\n",
      "torch.Size([100, 784])\n",
      "torch.Size([100, 784])\n",
      "torch.Size([100, 784])\n",
      "torch.Size([100, 784])\n",
      "torch.Size([100, 784])\n",
      "torch.Size([100, 784])\n",
      "torch.Size([100, 784])\n",
      "torch.Size([100, 784])\n",
      "torch.Size([100, 784])\n",
      "torch.Size([100, 784])\n",
      "torch.Size([100, 784])\n"
     ]
    },
    {
     "ename": "KeyboardInterrupt",
     "evalue": "",
     "output_type": "error",
     "traceback": [
      "\u001b[0;31m---------------------------------------------------------------------------\u001b[0m",
      "\u001b[0;31mKeyboardInterrupt\u001b[0m                         Traceback (most recent call last)",
      "Cell \u001b[0;32mIn[9], line 2\u001b[0m\n\u001b[1;32m      1\u001b[0m trainer \u001b[38;5;241m=\u001b[39m Model_Trainer(config, train_loader)\n\u001b[0;32m----> 2\u001b[0m trainer\u001b[38;5;241m.\u001b[39mfit()\n",
      "Cell \u001b[0;32mIn[7], line 23\u001b[0m, in \u001b[0;36mModel_Trainer.fit\u001b[0;34m(self)\u001b[0m\n\u001b[1;32m     21\u001b[0m \u001b[38;5;28;01mfor\u001b[39;00m epoch \u001b[38;5;129;01min\u001b[39;00m \u001b[38;5;28mrange\u001b[39m(\u001b[38;5;28mself\u001b[39m\u001b[38;5;241m.\u001b[39mconfig[\u001b[38;5;124m\"\u001b[39m\u001b[38;5;124mnumber_epoch\u001b[39m\u001b[38;5;124m\"\u001b[39m]):\n\u001b[1;32m     22\u001b[0m     epoch_loss \u001b[38;5;241m=\u001b[39m []\n\u001b[0;32m---> 23\u001b[0m     \u001b[38;5;28;01mfor\u001b[39;00m (i, ((noisy_image, clean_image), label) )\u001b[38;5;129;01min\u001b[39;00m \u001b[38;5;28menumerate\u001b[39m(\u001b[38;5;28mself\u001b[39m\u001b[38;5;241m.\u001b[39mtrain_loader):       \n\u001b[1;32m     24\u001b[0m         \u001b[38;5;66;03m#Forward pass\u001b[39;00m\n\u001b[1;32m     25\u001b[0m         noisy_image, clean_image \u001b[38;5;241m=\u001b[39m noisy_image\u001b[38;5;241m.\u001b[39mreshape(\u001b[38;5;241m-\u001b[39m\u001b[38;5;241m1\u001b[39m, \u001b[38;5;28mself\u001b[39m\u001b[38;5;241m.\u001b[39mconfig[\u001b[38;5;124m\"\u001b[39m\u001b[38;5;124minput_size\u001b[39m\u001b[38;5;124m\"\u001b[39m]), clean_image\u001b[38;5;241m.\u001b[39mreshape(\u001b[38;5;241m-\u001b[39m\u001b[38;5;241m1\u001b[39m, \u001b[38;5;28mself\u001b[39m\u001b[38;5;241m.\u001b[39mconfig[\u001b[38;5;124m\"\u001b[39m\u001b[38;5;124minput_size\u001b[39m\u001b[38;5;124m\"\u001b[39m])\n\u001b[1;32m     27\u001b[0m         noisy_image \u001b[38;5;241m=\u001b[39m noisy_image\u001b[38;5;241m.\u001b[39mtype(torch\u001b[38;5;241m.\u001b[39mfloat32)\n",
      "File \u001b[0;32m/opt/anaconda3/lib/python3.12/site-packages/torch/utils/data/dataloader.py:701\u001b[0m, in \u001b[0;36m_BaseDataLoaderIter.__next__\u001b[0;34m(self)\u001b[0m\n\u001b[1;32m    698\u001b[0m \u001b[38;5;28;01mif\u001b[39;00m \u001b[38;5;28mself\u001b[39m\u001b[38;5;241m.\u001b[39m_sampler_iter \u001b[38;5;129;01mis\u001b[39;00m \u001b[38;5;28;01mNone\u001b[39;00m:\n\u001b[1;32m    699\u001b[0m     \u001b[38;5;66;03m# TODO(https://github.com/pytorch/pytorch/issues/76750)\u001b[39;00m\n\u001b[1;32m    700\u001b[0m     \u001b[38;5;28mself\u001b[39m\u001b[38;5;241m.\u001b[39m_reset()  \u001b[38;5;66;03m# type: ignore[call-arg]\u001b[39;00m\n\u001b[0;32m--> 701\u001b[0m data \u001b[38;5;241m=\u001b[39m \u001b[38;5;28mself\u001b[39m\u001b[38;5;241m.\u001b[39m_next_data()\n\u001b[1;32m    702\u001b[0m \u001b[38;5;28mself\u001b[39m\u001b[38;5;241m.\u001b[39m_num_yielded \u001b[38;5;241m+\u001b[39m\u001b[38;5;241m=\u001b[39m \u001b[38;5;241m1\u001b[39m\n\u001b[1;32m    703\u001b[0m \u001b[38;5;28;01mif\u001b[39;00m (\n\u001b[1;32m    704\u001b[0m     \u001b[38;5;28mself\u001b[39m\u001b[38;5;241m.\u001b[39m_dataset_kind \u001b[38;5;241m==\u001b[39m _DatasetKind\u001b[38;5;241m.\u001b[39mIterable\n\u001b[1;32m    705\u001b[0m     \u001b[38;5;129;01mand\u001b[39;00m \u001b[38;5;28mself\u001b[39m\u001b[38;5;241m.\u001b[39m_IterableDataset_len_called \u001b[38;5;129;01mis\u001b[39;00m \u001b[38;5;129;01mnot\u001b[39;00m \u001b[38;5;28;01mNone\u001b[39;00m\n\u001b[1;32m    706\u001b[0m     \u001b[38;5;129;01mand\u001b[39;00m \u001b[38;5;28mself\u001b[39m\u001b[38;5;241m.\u001b[39m_num_yielded \u001b[38;5;241m>\u001b[39m \u001b[38;5;28mself\u001b[39m\u001b[38;5;241m.\u001b[39m_IterableDataset_len_called\n\u001b[1;32m    707\u001b[0m ):\n",
      "File \u001b[0;32m/opt/anaconda3/lib/python3.12/site-packages/torch/utils/data/dataloader.py:757\u001b[0m, in \u001b[0;36m_SingleProcessDataLoaderIter._next_data\u001b[0;34m(self)\u001b[0m\n\u001b[1;32m    755\u001b[0m \u001b[38;5;28;01mdef\u001b[39;00m \u001b[38;5;21m_next_data\u001b[39m(\u001b[38;5;28mself\u001b[39m):\n\u001b[1;32m    756\u001b[0m     index \u001b[38;5;241m=\u001b[39m \u001b[38;5;28mself\u001b[39m\u001b[38;5;241m.\u001b[39m_next_index()  \u001b[38;5;66;03m# may raise StopIteration\u001b[39;00m\n\u001b[0;32m--> 757\u001b[0m     data \u001b[38;5;241m=\u001b[39m \u001b[38;5;28mself\u001b[39m\u001b[38;5;241m.\u001b[39m_dataset_fetcher\u001b[38;5;241m.\u001b[39mfetch(index)  \u001b[38;5;66;03m# may raise StopIteration\u001b[39;00m\n\u001b[1;32m    758\u001b[0m     \u001b[38;5;28;01mif\u001b[39;00m \u001b[38;5;28mself\u001b[39m\u001b[38;5;241m.\u001b[39m_pin_memory:\n\u001b[1;32m    759\u001b[0m         data \u001b[38;5;241m=\u001b[39m _utils\u001b[38;5;241m.\u001b[39mpin_memory\u001b[38;5;241m.\u001b[39mpin_memory(data, \u001b[38;5;28mself\u001b[39m\u001b[38;5;241m.\u001b[39m_pin_memory_device)\n",
      "File \u001b[0;32m/opt/anaconda3/lib/python3.12/site-packages/torch/utils/data/_utils/fetch.py:52\u001b[0m, in \u001b[0;36m_MapDatasetFetcher.fetch\u001b[0;34m(self, possibly_batched_index)\u001b[0m\n\u001b[1;32m     50\u001b[0m         data \u001b[38;5;241m=\u001b[39m \u001b[38;5;28mself\u001b[39m\u001b[38;5;241m.\u001b[39mdataset\u001b[38;5;241m.\u001b[39m__getitems__(possibly_batched_index)\n\u001b[1;32m     51\u001b[0m     \u001b[38;5;28;01melse\u001b[39;00m:\n\u001b[0;32m---> 52\u001b[0m         data \u001b[38;5;241m=\u001b[39m [\u001b[38;5;28mself\u001b[39m\u001b[38;5;241m.\u001b[39mdataset[idx] \u001b[38;5;28;01mfor\u001b[39;00m idx \u001b[38;5;129;01min\u001b[39;00m possibly_batched_index]\n\u001b[1;32m     53\u001b[0m \u001b[38;5;28;01melse\u001b[39;00m:\n\u001b[1;32m     54\u001b[0m     data \u001b[38;5;241m=\u001b[39m \u001b[38;5;28mself\u001b[39m\u001b[38;5;241m.\u001b[39mdataset[possibly_batched_index]\n",
      "File \u001b[0;32m/opt/anaconda3/lib/python3.12/site-packages/torchvision/datasets/mnist.py:146\u001b[0m, in \u001b[0;36mMNIST.__getitem__\u001b[0;34m(self, index)\u001b[0m\n\u001b[1;32m    143\u001b[0m img \u001b[38;5;241m=\u001b[39m Image\u001b[38;5;241m.\u001b[39mfromarray(img\u001b[38;5;241m.\u001b[39mnumpy(), mode\u001b[38;5;241m=\u001b[39m\u001b[38;5;124m\"\u001b[39m\u001b[38;5;124mL\u001b[39m\u001b[38;5;124m\"\u001b[39m)\n\u001b[1;32m    145\u001b[0m \u001b[38;5;28;01mif\u001b[39;00m \u001b[38;5;28mself\u001b[39m\u001b[38;5;241m.\u001b[39mtransform \u001b[38;5;129;01mis\u001b[39;00m \u001b[38;5;129;01mnot\u001b[39;00m \u001b[38;5;28;01mNone\u001b[39;00m:\n\u001b[0;32m--> 146\u001b[0m     img \u001b[38;5;241m=\u001b[39m \u001b[38;5;28mself\u001b[39m\u001b[38;5;241m.\u001b[39mtransform(img)\n\u001b[1;32m    148\u001b[0m \u001b[38;5;28;01mif\u001b[39;00m \u001b[38;5;28mself\u001b[39m\u001b[38;5;241m.\u001b[39mtarget_transform \u001b[38;5;129;01mis\u001b[39;00m \u001b[38;5;129;01mnot\u001b[39;00m \u001b[38;5;28;01mNone\u001b[39;00m:\n\u001b[1;32m    149\u001b[0m     target \u001b[38;5;241m=\u001b[39m \u001b[38;5;28mself\u001b[39m\u001b[38;5;241m.\u001b[39mtarget_transform(target)\n",
      "File \u001b[0;32m/opt/anaconda3/lib/python3.12/site-packages/torchvision/transforms/transforms.py:95\u001b[0m, in \u001b[0;36mCompose.__call__\u001b[0;34m(self, img)\u001b[0m\n\u001b[1;32m     93\u001b[0m \u001b[38;5;28;01mdef\u001b[39;00m \u001b[38;5;21m__call__\u001b[39m(\u001b[38;5;28mself\u001b[39m, img):\n\u001b[1;32m     94\u001b[0m     \u001b[38;5;28;01mfor\u001b[39;00m t \u001b[38;5;129;01min\u001b[39;00m \u001b[38;5;28mself\u001b[39m\u001b[38;5;241m.\u001b[39mtransforms:\n\u001b[0;32m---> 95\u001b[0m         img \u001b[38;5;241m=\u001b[39m t(img)\n\u001b[1;32m     96\u001b[0m     \u001b[38;5;28;01mreturn\u001b[39;00m img\n",
      "Cell \u001b[0;32mIn[4], line 9\u001b[0m, in \u001b[0;36mNoisify.__call__\u001b[0;34m(self, sample)\u001b[0m\n\u001b[1;32m      7\u001b[0m \u001b[38;5;28;01melse\u001b[39;00m:\n\u001b[1;32m      8\u001b[0m     \u001b[38;5;28;01mraise\u001b[39;00m \u001b[38;5;167;01mValueError\u001b[39;00m(\u001b[38;5;124m\"\u001b[39m\u001b[38;5;124mSample is empty!\u001b[39m\u001b[38;5;124m\"\u001b[39m)\n\u001b[0;32m----> 9\u001b[0m noise \u001b[38;5;241m=\u001b[39m \u001b[38;5;28mself\u001b[39m\u001b[38;5;241m.\u001b[39mnoise_level \u001b[38;5;241m*\u001b[39m np\u001b[38;5;241m.\u001b[39mrandom\u001b[38;5;241m.\u001b[39mnormal(\u001b[38;5;241m0\u001b[39m, \u001b[38;5;241m1\u001b[39m, size\u001b[38;5;241m=\u001b[39mclean_image\u001b[38;5;241m.\u001b[39mshape)\n\u001b[1;32m     10\u001b[0m noisy_image \u001b[38;5;241m=\u001b[39m clean_image \u001b[38;5;241m+\u001b[39m noise\n\u001b[1;32m     11\u001b[0m all_images \u001b[38;5;241m=\u001b[39m (noisy_image, clean_image)\n",
      "\u001b[0;31mKeyboardInterrupt\u001b[0m: "
     ]
    }
   ],
   "source": [
    "trainer = Model_Trainer(config, train_loader)\n",
    "trainer.fit()"
   ]
  },
  {
   "cell_type": "code",
   "execution_count": 9,
   "metadata": {},
   "outputs": [],
   "source": [
    "\n",
    "model = trainer.model"
   ]
  },
  {
   "cell_type": "code",
   "execution_count": 1,
   "metadata": {},
   "outputs": [],
   "source": [
    "def Denoise(model, noisy_image):\n",
    "    with torch.no_grad():\n",
    "        noisy_image =  noisy_image.reshape(-1, config[\"input_size\"])\n",
    "        noisy_image = noisy_image.type(torch.float32)\n",
    "        output = model.forward(output)\n",
    "        output = output.reshape(28, 28)\n",
    "        output = output.detach().numpy()\n",
    "    return output "
   ]
  },
  {
   "cell_type": "code",
   "execution_count": null,
   "metadata": {},
   "outputs": [],
   "source": [
    "(noisy_image, clean_image), label = next(iter(test_loader))\n",
    "plt.imshow(noisy_image[4], cmap='PuBu')\n"
   ]
  },
  {
   "cell_type": "code",
   "execution_count": null,
   "metadata": {},
   "outputs": [],
   "source": [
    "test_image = noisy_image[93]\n",
    "cleaned_test_image = Denoise(model, test_image)\n",
    "plt.imshow(cleaned_test_image)"
   ]
  },
  {
   "cell_type": "code",
   "execution_count": null,
   "metadata": {},
   "outputs": [],
   "source": []
  },
  {
   "cell_type": "code",
   "execution_count": null,
   "metadata": {},
   "outputs": [],
   "source": []
  }
 ],
 "metadata": {
  "kernelspec": {
   "display_name": "base",
   "language": "python",
   "name": "python3"
  },
  "language_info": {
   "codemirror_mode": {
    "name": "ipython",
    "version": 3
   },
   "file_extension": ".py",
   "mimetype": "text/x-python",
   "name": "python",
   "nbconvert_exporter": "python",
   "pygments_lexer": "ipython3",
   "version": "3.12.7"
  }
 },
 "nbformat": 4,
 "nbformat_minor": 2
}
